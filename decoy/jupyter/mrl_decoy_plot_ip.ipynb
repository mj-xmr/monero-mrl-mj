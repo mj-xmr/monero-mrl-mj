{
 "cells": [
  {
   "cell_type": "code",
   "execution_count": null,
   "id": "e0de929f",
   "metadata": {
    "lines_to_next_cell": 0
   },
   "outputs": [],
   "source": []
  },
  {
   "cell_type": "code",
   "execution_count": null,
   "id": "5591ac69",
   "metadata": {},
   "outputs": [],
   "source": [
    "%matplotlib inline"
   ]
  },
  {
   "cell_type": "code",
   "execution_count": null,
   "id": "a1fec3ef",
   "metadata": {},
   "outputs": [],
   "source": [
    "import os\n",
    "from datetime import datetime\n",
    "import numpy as np\n",
    "from matplotlib import pyplot as plt\n",
    "import math\n",
    "import argparse\n",
    "import wget\n",
    "import shutil\n",
    "from matplotlib import pyplot as plt"
   ]
  },
  {
   "cell_type": "code",
   "execution_count": null,
   "id": "627fbf5d",
   "metadata": {},
   "outputs": [],
   "source": [
    "FILE_IN = 'mul_2_ratio_good.csv'\n",
    "PATH_IN = '/tmp/' + FILE_IN\n",
    "PATH_IN_ALT = '../data/' + FILE_IN"
   ]
  },
  {
   "cell_type": "code",
   "execution_count": null,
   "id": "bc85fb3b",
   "metadata": {},
   "outputs": [],
   "source": [
    "PATH = PATH_IN_ALT\n",
    "data = np.loadtxt(PATH, delimiter=',')\n",
    "print(data)\n",
    "plt.figure()\n",
    "plt.scatter(data[:,0], data[:, 1])\n",
    "plt.xlabel(\"Multiple of the RCT minimal lenght\")\n",
    "plt.ylabel(\"Probability of a good pick\")\n",
    "plt.grid()\n",
    "plt.show()"
   ]
  },
  {
   "cell_type": "code",
   "execution_count": null,
   "id": "953ea105",
   "metadata": {
    "lines_to_next_cell": 2
   },
   "outputs": [],
   "source": []
  }
 ],
 "metadata": {
  "jupytext": {
   "cell_metadata_filter": "-all",
   "encoding": "# -*- coding: utf-8 -*-",
   "executable": "/usr/bin/env python3",
   "formats": "ipynb,py",
   "main_language": "python"
  }
 },
 "nbformat": 4,
 "nbformat_minor": 5
}
