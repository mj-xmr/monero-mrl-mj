{
 "cells": [
  {
   "cell_type": "code",
   "execution_count": null,
   "id": "ec3688e9",
   "metadata": {
    "lines_to_next_cell": 0
   },
   "outputs": [],
   "source": []
  },
  {
   "cell_type": "code",
   "execution_count": null,
   "id": "5687e693",
   "metadata": {},
   "outputs": [],
   "source": [
    "%matplotlib inline"
   ]
  },
  {
   "cell_type": "code",
   "execution_count": null,
   "id": "a08a06fa",
   "metadata": {},
   "outputs": [],
   "source": [
    "import os\n",
    "from datetime import datetime\n",
    "import numpy as np\n",
    "from matplotlib import pyplot as plt\n",
    "import math\n",
    "import argparse\n",
    "import wget\n",
    "import shutil\n",
    "from matplotlib import pyplot as plt"
   ]
  },
  {
   "cell_type": "code",
   "execution_count": null,
   "id": "83d15c5c",
   "metadata": {
    "lines_to_next_cell": 1
   },
   "outputs": [],
   "source": [
    "FILE_IN = 'mul_2_ratio_good.csv'\n",
    "PATH_IN = '/tmp/' + FILE_IN\n",
    "PATH_IN_ALT = '../data/' + FILE_IN"
   ]
  },
  {
   "cell_type": "code",
   "execution_count": null,
   "id": "5d73315a",
   "metadata": {
    "lines_to_next_cell": 1
   },
   "outputs": [],
   "source": [
    "def GetParser():\n",
    "    parser = argparse.ArgumentParser()\n",
    "    parser.add_argument('-d', '--dload-disable', default=False, action='store_true', help=\"Disable download?\")\n",
    "    parser.add_argument('-o', '--one-only', default=False, action='store_true', help=\"Plot only one\")\n",
    "\n",
    "    return parser"
   ]
  },
  {
   "cell_type": "code",
   "execution_count": null,
   "id": "47d5d4a4",
   "metadata": {
    "lines_to_next_cell": 1
   },
   "outputs": [],
   "source": [
    "def prepDir():\n",
    "    if os.path.isdir(DIR_IN):\n",
    "        shutil.rmtree(DIR_IN)\n",
    "    os.makedirs(DIR_IN, exist_ok=True)"
   ]
  },
  {
   "cell_type": "code",
   "execution_count": null,
   "id": "5aa15d7e",
   "metadata": {
    "lines_to_next_cell": 1
   },
   "outputs": [],
   "source": [
    "def writeTimestamp():\n",
    "    with open(PATH_TIMESTAMP, 'w') as fout:\n",
    "        fout.write(datetime.now().replace(microsecond=0).isoformat().replace('T', '  '))"
   ]
  },
  {
   "cell_type": "code",
   "execution_count": null,
   "id": "551c855b",
   "metadata": {
    "lines_to_next_cell": 1
   },
   "outputs": [],
   "source": [
    "def plot_data(data):\n",
    "    plt.figure()\n",
    "    plt.scatter(data[:,0], data[:, 1])\n",
    "    plt.xlabel(\"Multiple of the RCT minimal lenght\")\n",
    "    plt.ylabel(\"Probability of a good pick\")\n",
    "    plt.grid()\n",
    "    plt.show()\n",
    "    #print(data[:,0])"
   ]
  },
  {
   "cell_type": "code",
   "execution_count": null,
   "id": "937ab47e",
   "metadata": {
    "lines_to_next_cell": 1
   },
   "outputs": [],
   "source": [
    "def plot_function(data):\n",
    "    # This might approximate the gathered data\n",
    "    def f(x):\n",
    "        return (-1/x) + 1\n",
    "\n",
    "    x = data[:,0]\n",
    "    y = f(x)\n",
    "    plt.plot(x, y)\n",
    "    plt.grid()\n",
    "    plt.show()"
   ]
  },
  {
   "cell_type": "code",
   "execution_count": null,
   "id": "223b67e4",
   "metadata": {
    "lines_to_next_cell": 1
   },
   "outputs": [],
   "source": [
    "def main():\n",
    "    parser = GetParser()\n",
    "    args = parser.parse_args()\n",
    "    if os.path.isfile(PATH_IN):\n",
    "        PATH = PATH_IN\n",
    "    else:\n",
    "        PATH = PATH_IN_ALT\n",
    "    data = np.loadtxt(PATH, delimiter=',')\n",
    "    \n",
    "    plot_data(data)\n",
    "    #plot_function(data)\n",
    "        \n",
    "    #dload_stocks() \n",
    "    #ldir(args)\n",
    "    #writeTimestamp()"
   ]
  },
  {
   "cell_type": "code",
   "execution_count": null,
   "id": "9187251e",
   "metadata": {
    "lines_to_next_cell": 2
   },
   "outputs": [],
   "source": [
    "if __name__ == \"__main__\":\n",
    "    main()"
   ]
  }
 ],
 "metadata": {
  "jupytext": {
   "cell_metadata_filter": "-all",
   "encoding": "# -*- coding: utf-8 -*-",
   "executable": "/usr/bin/env python3",
   "formats": "ipynb,py",
   "main_language": "python"
  }
 },
 "nbformat": 4,
 "nbformat_minor": 5
}
