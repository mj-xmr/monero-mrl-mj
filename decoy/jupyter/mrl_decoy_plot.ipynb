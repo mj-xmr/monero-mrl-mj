{
 "cells": [
  {
   "cell_type": "code",
   "execution_count": 1,
   "id": "aa30f872",
   "metadata": {},
   "outputs": [
    {
     "name": "stderr",
     "output_type": "stream",
     "text": [
      "usage: ipykernel_launcher.py [-h] [-d] [-o]\n",
      "ipykernel_launcher.py: error: unrecognized arguments: -f /home/enjo/.local/share/jupyter/runtime/kernel-e9e13123-5ecc-4b84-93e1-be226f68ad5d.json\n"
     ]
    },
    {
     "ename": "SystemExit",
     "evalue": "2",
     "output_type": "error",
     "traceback": [
      "An exception has occurred, use %tb to see the full traceback.\n",
      "\u001b[0;31mSystemExit\u001b[0m\u001b[0;31m:\u001b[0m 2\n"
     ]
    },
    {
     "name": "stderr",
     "output_type": "stream",
     "text": [
      "/home/enjo/.local/lib/python3.8/site-packages/IPython/core/interactiveshell.py:3452: UserWarning: To exit: use 'exit', 'quit', or Ctrl-D.\n",
      "  warn(\"To exit: use 'exit', 'quit', or Ctrl-D.\", stacklevel=1)\n"
     ]
    }
   ],
   "source": [
    "#!/usr/bin/env python3\n",
    "# -*- coding: utf-8 -*-\n",
    "\n",
    "%matplotlib inline\n",
    "\n",
    "import os\n",
    "from datetime import datetime\n",
    "import numpy as np\n",
    "from matplotlib import pyplot as plt\n",
    "import math\n",
    "import argparse\n",
    "import wget\n",
    "import shutil\n",
    "from matplotlib import pyplot as plt\n",
    "\n",
    "FILE_IN = 'mul_2_ratio_good.csv'\n",
    "PATH_IN = '/tmp/' + FILE_IN\n",
    "PATH_IN_ALT = '../data/' + FILE_IN\n",
    "\n",
    "def GetParser():\n",
    "    parser = argparse.ArgumentParser()\n",
    "    parser.add_argument('-d', '--dload-disable', default=False, action='store_true', help=\"Disable download?\")\n",
    "    parser.add_argument('-o', '--one-only', default=False, action='store_true', help=\"Plot only one\")\n",
    "\n",
    "    return parser\n",
    "    \n",
    "def prepDir():\n",
    "    if os.path.isdir(DIR_IN):\n",
    "        shutil.rmtree(DIR_IN)\n",
    "    os.makedirs(DIR_IN, exist_ok=True)\n",
    "    \n",
    "def writeTimestamp():\n",
    "    with open(PATH_TIMESTAMP, 'w') as fout:\n",
    "        fout.write(datetime.now().replace(microsecond=0).isoformat().replace('T', '  '))\n",
    "\n",
    "def plot_data(data):\n",
    "    plt.figure()\n",
    "    plt.scatter(data[:,0], data[:, 1])\n",
    "    plt.xlabel(\"Multiple of the RCT minimal lenght\")\n",
    "    plt.ylabel(\"Probability of a good pick\")\n",
    "    plt.grid()\n",
    "    plt.show()\n",
    "    #print(data[:,0])\n",
    "\n",
    "def plot_function(data):\n",
    "    # This might approximate the gathered data\n",
    "    def f(x):\n",
    "        return (-1/x) + 1\n",
    "\n",
    "    x = data[:,0]\n",
    "    y = f(x)\n",
    "    plt.plot(x, y)\n",
    "    plt.grid()\n",
    "    plt.show()\n",
    "\n",
    "def main():\n",
    "    parser = GetParser()\n",
    "    args = parser.parse_args()\n",
    "    if os.path.isfile(PATH_IN):\n",
    "        PATH = PATH_IN\n",
    "    else:\n",
    "        PATH = PATH_IN_ALT\n",
    "    data = np.loadtxt(PATH, delimiter=',')\n",
    "    print(data)\n",
    "    plot_data(data)\n",
    "    #plot_function(data)\n",
    "        \n",
    "    #dload_stocks() \n",
    "    #ldir(args)\n",
    "    #writeTimestamp()\n",
    "    \n",
    "if __name__ == \"__main__\":\n",
    "    main()\n",
    "\n",
    "\n"
   ]
  }
 ],
 "metadata": {
  "kernelspec": {
   "display_name": "Python 3 (ipykernel)",
   "language": "python",
   "name": "python3"
  },
  "language_info": {
   "codemirror_mode": {
    "name": "ipython",
    "version": 3
   },
   "file_extension": ".py",
   "mimetype": "text/x-python",
   "name": "python",
   "nbconvert_exporter": "python",
   "pygments_lexer": "ipython3",
   "version": "3.8.10"
  }
 },
 "nbformat": 4,
 "nbformat_minor": 5
}
